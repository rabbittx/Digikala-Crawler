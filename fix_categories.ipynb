{
 "cells": [
  {
   "cell_type": "code",
   "execution_count": 2,
   "metadata": {},
   "outputs": [],
   "source": [
    "from driver_manager import DriverManager\n",
    "from logger import setup_logger\n",
    "import time\n",
    "import time\n",
    "from selenium.webdriver.firefox.service import Service\n",
    "from selenium import webdriver\n",
    "from selenium.webdriver.common.by import By\n",
    "from selenium.webdriver.support.ui import WebDriverWait\n",
    "from selenium.webdriver.support import expected_conditions as EC\n",
    "from typing import Union\n",
    "from bs4 import BeautifulSoup\n",
    "from selenium.webdriver.firefox.options import Options\n",
    "\n",
    "url = 'https://www.digikala.com/'\n",
    "driver_path = r'geckodriver.exe'"
   ]
  },
  {
   "cell_type": "code",
   "execution_count": 3,
   "metadata": {},
   "outputs": [],
   "source": [
    "service = Service(driver_path)\n",
    "driver = webdriver.Firefox(service=service)"
   ]
  },
  {
   "cell_type": "code",
   "execution_count": 4,
   "metadata": {},
   "outputs": [],
   "source": [
    "driver.get(url)"
   ]
  },
  {
   "cell_type": "code",
   "execution_count": 6,
   "metadata": {},
   "outputs": [
    {
     "data": {
      "text/plain": [
       "{'موبایل': '',\n",
       " 'کالای دیجیتال': '',\n",
       " 'خانه و آشپزخانه': '',\n",
       " 'لوازم خانگی برقی': '',\n",
       " 'مد و پوشاک': '',\n",
       " 'زیبایی و سلامت': '',\n",
       " 'کارت هدیه': '',\n",
       " 'کالاهای سوپرمارکتی': '',\n",
       " 'کتاب، لوازم تحریر و هنر': '',\n",
       " 'اسباب بازی، کودک و نوزاد': '',\n",
       " 'ابزار آلات و تجهیزات': '',\n",
       " 'خودرو و موتورسیکلت': '',\n",
       " 'ورزش و سفر': '',\n",
       " 'محصولات بومی و محلی': ''}"
      ]
     },
     "execution_count": 6,
     "metadata": {},
     "output_type": "execute_result"
    }
   ],
   "source": [
    "element = driver.find_element(By.CSS_SELECTOR, '[data-cro-id=\"header-main-menu\"]')\n",
    "element.click()\n",
    "categories = driver.find_elements(By.CSS_SELECTOR, '[data-cro-id=\"header-main-menu-categories\"]')\n",
    "all_categories = driver.find_elements(By.CSS_SELECTOR,'[data-cro-id=\"mega-menu-leaf\"]')\n",
    "details= {}\n",
    "for mega in categories :\n",
    "    details[mega.text]= {}\n",
    "    for i in all_categories:\n",
    "        details[mega.text]= i.text\n",
    "\n",
    "details"
   ]
  },
  {
   "cell_type": "code",
   "execution_count": 54,
   "metadata": {},
   "outputs": [],
   "source": [
    "with open('categories.tex','a',encoding='utf-8-sig') as file :\n",
    "    file.write(str(details))\n"
   ]
  }
 ],
 "metadata": {
  "kernelspec": {
   "display_name": "env",
   "language": "python",
   "name": "python3"
  },
  "language_info": {
   "codemirror_mode": {
    "name": "ipython",
    "version": 3
   },
   "file_extension": ".py",
   "mimetype": "text/x-python",
   "name": "python",
   "nbconvert_exporter": "python",
   "pygments_lexer": "ipython3",
   "version": "3.11.4"
  }
 },
 "nbformat": 4,
 "nbformat_minor": 2
}
