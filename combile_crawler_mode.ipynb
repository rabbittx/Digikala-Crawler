{
 "cells": [
  {
   "cell_type": "code",
   "execution_count": 9,
   "metadata": {},
   "outputs": [
    {
     "name": "stdout",
     "output_type": "stream",
     "text": [
      "SELECT seller_id FROM sellers \n"
     ]
    },
    {
     "data": {
      "text/plain": [
       "['5A52N',\n",
       " '5AD97',\n",
       " '9PAT4',\n",
       " 'A4F6F',\n",
       " 'A4ZKW',\n",
       " 'A97EK',\n",
       " 'AA9FR',\n",
       " 'AATCE',\n",
       " 'ACMWJ',\n",
       " 'AN4UE',\n",
       " 'AUFF9',\n",
       " 'AUSNV',\n",
       " 'C9YXK',\n",
       " 'C9Z34',\n",
       " 'CE3HE',\n",
       " 'CGDG9',\n",
       " 'CGXGH',\n",
       " 'CHG4X',\n",
       " 'CKKCP',\n",
       " 'CSZ49',\n",
       " 'CYGAV',\n",
       " 'D7ZNU',\n",
       " 'D9AC2',\n",
       " 'D9E6E',\n",
       " 'DGWEA',\n",
       " 'DPMUV',\n",
       " 'DRCZ2',\n",
       " 'DU3ZS',\n",
       " 'DVEFT',\n",
       " 'E5SWN',\n",
       " 'E7PAC',\n",
       " 'E7Z6Z',\n",
       " 'EDV9Y',\n",
       " 'EE6DA',\n",
       " 'EJM9M',\n",
       " 'EKV5H',\n",
       " 'EM6DP',\n",
       " 'EPMCW',\n",
       " 'EW2A5',\n",
       " 'F7TMP',\n",
       " 'FJC6P',\n",
       " 'FM9XU',\n",
       " 'FNECY',\n",
       " 'egjaf']"
      ]
     },
     "execution_count": 9,
     "metadata": {},
     "output_type": "execute_result"
    }
   ],
   "source": [
    "import sqlite3\n",
    "def get_row_info(fields,table_name,):\n",
    "        conn = sqlite3.connect('digikala_database-old.db',timeout=30)\n",
    "        cursor = conn.cursor()\n",
    "       \n",
    "        field = ','.join(fields)\n",
    "        query = f\"SELECT {field} FROM {table_name} \"\n",
    "        print(query)\n",
    "        cursor.execute(query)\n",
    "        row_info = cursor.fetchall()\n",
    "        conn.close()\n",
    "        return  [product[0] for product in row_info]\n",
    "\n",
    "get_row_info(fields=['seller_id'],table_name='sellers')"
   ]
  },
  {
   "cell_type": "code",
   "execution_count": 3,
   "metadata": {},
   "outputs": [
    {
     "data": {
      "text/plain": [
       "'https://www.digikala.com/seller/es4mf/asd'"
      ]
     },
     "execution_count": 3,
     "metadata": {},
     "output_type": "execute_result"
    }
   ],
   "source": [
    "import re\n",
    "def get_url_input( mode):\n",
    "        while True:\n",
    "            fmode = mode.replace('_',' ')\n",
    "            url = input(f'Enter {fmode} URL: ')\n",
    "\n",
    "            if mode == 'single_product':\n",
    "                if ('product' not in url and not re.search(r'dkp-\\d+', url) ):\n",
    "                    print('URL is not belong to any product check it and Please try again.')\n",
    "                    continue\n",
    "\n",
    "            elif mode == 'single_seller':\n",
    "                pattern = re.compile(r'https://www\\.digikala\\.com/seller/[A-Z0-9]+/$')\n",
    "                if  ('seller' not in url and not pattern.match(url)):\n",
    "                     print(\"URL is not belong to any seller check it and Please try again.\")\n",
    "                     continue\n",
    "            elif mode == 'category':\n",
    "                if not ('search/?q=' in url or '/category-' in url or '/search/' in url):\n",
    "                    print('Wrong category URL, try one more time')\n",
    "                    continue\n",
    "\n",
    "            break\n",
    "        return url\n",
    "get_url_input( 'single_seller')"
   ]
  },
  {
   "cell_type": "code",
   "execution_count": null,
   "metadata": {},
   "outputs": [],
   "source": [
    "def run_scraper_category(self):\n",
    "    pass"
   ]
  },
  {
   "cell_type": "code",
   "execution_count": null,
   "metadata": {},
   "outputs": [],
   "source": [
    "def run_scraper_single(self):\n",
    "    pass\n"
   ]
  },
  {
   "cell_type": "code",
   "execution_count": null,
   "metadata": {},
   "outputs": [],
   "source": [
    "def run_seller_scraper_product(self):\n",
    "        row_info = self.db_handler.get_row_info(fields=['seller_id', 'seller_name'], table_name='sellers',condition=None,return_as_list=False)\n",
    "        if len(row_info) == 0 :\n",
    "            self.log.warning(\"There are no sellers in the database.\")\n",
    "            return None\n",
    "        \n",
    "        for index, row in enumerate(row_info):\n",
    "            self.log.info(f\"ID {index} : {row[0]}, Name: {row[1]}\")\n",
    "        while True:\n",
    "            try:\n",
    "                user_pick = int(input('choose the seller ID you want to crawl products from: '))\n",
    "                if 0 <= user_pick < len(row_info):\n",
    "                    break\n",
    "                else:\n",
    "                    self.log.info('Invalid choose, please try again.')\n",
    "            except ValueError:\n",
    "                self.log.info('Invalid input, please enter a number.')\n",
    "        selected_seller = row_info[user_pick]\n",
    "        self.get_driver()\n",
    "        self.log.info(f'You chose {selected_seller[1]} with ID {selected_seller[0]}')    \n",
    "        seller_products = self.db_handler.get_row_info(['product_link', 'product_price'], 'products', ['seller_name', selected_seller[1]])\n",
    "        available_products = [product[0] for product in seller_products if product[1] != 'product unavailable']\n",
    "        self.log.info(f'{len(available_products)} available products found for {selected_seller[1]}')\n",
    "        for index, link in enumerate(available_products):\n",
    "            self.log.info(f'Starting to crawl - {index + 1}/{len(available_products)}')\n",
    "            self.product_extraction_scraper.run(link)\n"
   ]
  },
  {
   "cell_type": "code",
   "execution_count": null,
   "metadata": {},
   "outputs": [],
   "source": [
    "def run_single_scraper_product(self):\n",
    "    pass\n",
    "\n"
   ]
  },
  {
   "cell_type": "code",
   "execution_count": null,
   "metadata": {},
   "outputs": [],
   "source": [
    "def scraper_all_product_on_db(self,):\n",
    "    pass\n"
   ]
  }
 ],
 "metadata": {
  "kernelspec": {
   "display_name": "env",
   "language": "python",
   "name": "python3"
  },
  "language_info": {
   "codemirror_mode": {
    "name": "ipython",
    "version": 3
   },
   "file_extension": ".py",
   "mimetype": "text/x-python",
   "name": "python",
   "nbconvert_exporter": "python",
   "pygments_lexer": "ipython3",
   "version": "3.11.4"
  }
 },
 "nbformat": 4,
 "nbformat_minor": 2
}
